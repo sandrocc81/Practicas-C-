{
  "nbformat": 4,
  "nbformat_minor": 0,
  "metadata": {
    "colab": {
      "provenance": [],
      "authorship_tag": "ABX9TyPt8cFQMLPundBd4qmP3fWZ",
      "include_colab_link": true
    },
    "kernelspec": {
      "name": "python3",
      "display_name": "Python 3"
    },
    "language_info": {
      "name": "python"
    }
  },
  "cells": [
    {
      "cell_type": "markdown",
      "metadata": {
        "id": "view-in-github",
        "colab_type": "text"
      },
      "source": [
        "<a href=\"https://colab.research.google.com/github/sandrocc81/Practicas-C-/blob/main/demoC%2B%2B.ipynb\" target=\"_parent\"><img src=\"https://colab.research.google.com/assets/colab-badge.svg\" alt=\"Open In Colab\"/></a>"
      ]
    },
    {
      "cell_type": "markdown",
      "source": [
        "# Código 01: \"hola mundo\"\n",
        "*El codigo envia un mensale a la consola que dice \"hola mundo\"*"
      ],
      "metadata": {
        "id": "ZwnVUFumwdR8"
      }
    },
    {
      "cell_type": "code",
      "execution_count": 8,
      "metadata": {
        "colab": {
          "base_uri": "https://localhost:8080/"
        },
        "id": "6RSa8z7otfuL",
        "outputId": "9b55d7f2-04b3-4916-b4e3-4efddd0a76f3"
      },
      "outputs": [
        {
          "output_type": "stream",
          "name": "stdout",
          "text": [
            "Overwriting hola.cpp\n"
          ]
        }
      ],
      "source": [
        "%%writefile hola.cpp\n",
        "#include <iostream>\n",
        "\n",
        "using namespace std;\n",
        "\n",
        "int main()\n",
        "{\n",
        "\n",
        "    // Print \"Hello, World!\" with username\n",
        "    cout << \"Hello, World! from \" << \"Sandro!\" << endl;\n",
        "\n",
        "    return 0;\n",
        "}\n"
      ]
    },
    {
      "cell_type": "code",
      "source": [
        "!g++ hola.cpp -o hola\n",
        "!./hola"
      ],
      "metadata": {
        "id": "s36wWrvWvB1_",
        "outputId": "8bbdce57-aeae-4456-9dce-ba103886a38b",
        "colab": {
          "base_uri": "https://localhost:8080/"
        }
      },
      "execution_count": 10,
      "outputs": [
        {
          "output_type": "stream",
          "name": "stdout",
          "text": [
            "Hello, World! from Sandro!\n"
          ]
        }
      ]
    },
    {
      "cell_type": "markdown",
      "source": [
        "# Código 02: variables\n",
        "Descripción: El codigo imprime el valor de una variable numerica contendida dentro del código. Esta variable no se pide al usuario.\n"
      ],
      "metadata": {
        "id": "X7K4Citc_iz1"
      }
    },
    {
      "cell_type": "code",
      "source": [
        "%%writefile variables.cpp\n",
        "#include <iostream>\n",
        "using namespace std;\n",
        "\n",
        "int main()\n",
        "{\n",
        "    int numero = 10;\n",
        "    cout << numero << endl;\n",
        "    return 0;\n",
        "}"
      ],
      "metadata": {
        "colab": {
          "base_uri": "https://localhost:8080/"
        },
        "id": "GdSRABTG_9qT",
        "outputId": "ae1a3b8f-ef1c-4a1d-8b17-ff4940020453"
      },
      "execution_count": 12,
      "outputs": [
        {
          "output_type": "stream",
          "name": "stdout",
          "text": [
            "Writing variables.cpp\n"
          ]
        }
      ]
    },
    {
      "cell_type": "code",
      "source": [
        "!g++ variables.cpp -o variables\n",
        "!./variables"
      ],
      "metadata": {
        "colab": {
          "base_uri": "https://localhost:8080/"
        },
        "id": "OcW4QMCxATt8",
        "outputId": "c521e4f2-0cdc-4c59-e286-0b33a31c7e5d"
      },
      "execution_count": 13,
      "outputs": [
        {
          "output_type": "stream",
          "name": "stdout",
          "text": [
            "10\n"
          ]
        }
      ]
    },
    {
      "cell_type": "markdown",
      "source": [
        "# Código 03: almacenar dato\n",
        "Descripción: El siguiente codigo envia un mensaje al usuario y pide un valor numerico. Posteriormente el programa muestra el valor en la consola"
      ],
      "metadata": {
        "id": "6gAOkk3tERu-"
      }
    },
    {
      "cell_type": "code",
      "source": [
        "%%writefile almacenar.cpp\n",
        "//Pide un valor y lo muestra en pantalla\n",
        "#include <iostream>\n",
        "using namespace std;\n",
        "\n",
        "int main()\n",
        "{\n",
        "    int numero;\n",
        "    cout << \"Ingrese un numero: \";\n",
        "    cin >> numero;\n",
        "    cout << \"El numero ingresado es: \" << numero << endl;\n",
        "    return 0;\n",
        "}"
      ],
      "metadata": {
        "colab": {
          "base_uri": "https://localhost:8080/"
        },
        "id": "Wd2iffS2EfM5",
        "outputId": "750d3ea6-5c66-4241-a606-a890075b6992"
      },
      "execution_count": 14,
      "outputs": [
        {
          "output_type": "stream",
          "name": "stdout",
          "text": [
            "Writing almacenar.cpp\n"
          ]
        }
      ]
    },
    {
      "cell_type": "code",
      "source": [
        "!g++ almacenar.cpp -o almacenar\n",
        "!./almacenar"
      ],
      "metadata": {
        "colab": {
          "base_uri": "https://localhost:8080/"
        },
        "id": "ONCWN37WE2MD",
        "outputId": "6946404e-7874-4e5c-ba10-cccb2e17bda1"
      },
      "execution_count": 15,
      "outputs": [
        {
          "output_type": "stream",
          "name": "stdout",
          "text": [
            "Ingrese un numero: 3\n",
            "El numero ingresado es: 3\n"
          ]
        }
      ]
    },
    {
      "cell_type": "markdown",
      "source": [
        "# Código 04: operaciones\n",
        "Descripción: El siguiente programa pide dos valores al usuario, estos son sumados y enviados a la salida."
      ],
      "metadata": {
        "id": "sbkpF-BPGnAw"
      }
    },
    {
      "cell_type": "code",
      "source": [
        "%%writefile operaciones01.cpp\n",
        "#include <iostream>\n",
        "using namespace std;\n",
        "\n",
        "int main()\n",
        "{\n",
        "    int numero1, numero2, suma;\n",
        "    cout << \"Ingrese el primer numero: \";\n",
        "    cin >> numero1;\n",
        "    cout << \"Ingrese el segundo numero: \";\n",
        "    cin >> numero2;\n",
        "\n",
        "    suma = numero1 + numero2;\n",
        "    cout << \"La suma es: \" << suma << endl;\n",
        "    return 0;\n",
        "}"
      ],
      "metadata": {
        "colab": {
          "base_uri": "https://localhost:8080/"
        },
        "id": "O1IN5sovG41z",
        "outputId": "722e272a-ccff-46bb-89c1-d681cdcc0a7b"
      },
      "execution_count": 16,
      "outputs": [
        {
          "output_type": "stream",
          "name": "stdout",
          "text": [
            "Writing operaciones01.cpp\n"
          ]
        }
      ]
    },
    {
      "cell_type": "code",
      "source": [
        "!g++ operaciones01.cpp -o operaciones01\n",
        "!./operaciones01"
      ],
      "metadata": {
        "colab": {
          "base_uri": "https://localhost:8080/"
        },
        "id": "Ob5HFv4-HLoe",
        "outputId": "4a1945f7-742f-4eaa-cf57-ce1475cd2d3c"
      },
      "execution_count": 17,
      "outputs": [
        {
          "output_type": "stream",
          "name": "stdout",
          "text": [
            "Ingrese el primer numero: 2\n",
            "Ingrese el segundo numero: 4\n",
            "La suma es: 6\n"
          ]
        }
      ]
    }
  ]
}